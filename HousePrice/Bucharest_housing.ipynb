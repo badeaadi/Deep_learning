{
  "nbformat": 4,
  "nbformat_minor": 0,
  "metadata": {
    "colab": {
      "name": "BadeaAdrian_334_Tema1",
      "provenance": [],
      "collapsed_sections": [],
      "toc_visible": true
    },
    "kernelspec": {
      "name": "python3",
      "display_name": "Python 3"
    },
    "accelerator": "GPU"
  },
  "cells": [
    {
      "cell_type": "markdown",
      "metadata": {
        "id": "zR1ZlT9j0U4p"
      },
      "source": [
        "# Assignment 1: Bucharest Housing Dataset\n",
        "\n",
        "\n",
        "\n"
      ]
    },
    {
      "cell_type": "markdown",
      "metadata": {
        "id": "rfXso_GoZk9u"
      },
      "source": [
        "## Dataset Description\n",
        "In the dataset linked below you have over three thousand apartments listed for sale on the locally popular website *imobiliare.ro*. Each entry provides details about different aspects of the house or apartment:\n",
        "1. `Nr Camere` indicates the number of rooms;\n",
        "2. `Suprafata` specifies the total area of the dwelling;\n",
        "3. `Etaj` specifies the floor that the home is located at;\n",
        "4. `Total Etaje` is the total number of floors of the block of flats;\n",
        "5. `Sector` represents the administrative district of Bucharest in which the apartment is located;\n",
        "6. `Pret` represents the listing price of each dwelling;\n",
        "7. `Scor` represents a rating between 1 and 5 of location of the apartment. It was computed in the following manner by the dataset creator:\n",
        "\n",
        "\n",
        "The initial dataset included the address of each flat;\n",
        "\n",
        "An extra dataset was used, which included the average sales price of dwellings in different areas of town;\n",
        "\n",
        "Using all of these monthly averages, a clusterization algorithm grouped them into 5 classes, which were then labelled 1-5;\n",
        "\n",
        "You can think of these scores as an indication of the value of the surrounding area, with 1 being expensive, and 5 being inexpensive.\n",
        "\n",
        "Dataset Source: [kaggle.com/denisadutca](https://www.kaggle.com/denisadutca/bucharest-house-price-dataset/kernels)\n",
        "\n",
        "\n"
      ]
    },
    {
      "cell_type": "markdown",
      "metadata": {
        "id": "SwVnR01-ZmIE"
      },
      "source": [
        "## Assignment\n",
        "\n",
        "To complete this assignment, you must:\n",
        "1. Get the data in a PyTorch-friendly format;\n",
        "2. Predict the `Nr Camere` of each dwelling, treating it as a **classification** problem. Choose an appropriate loss function;\n",
        "3. Predict the `Nr Camere` of each dwelling, treating it as a **regression** problem. Choose an appropriate loss function;\n",
        "4. Compare the results of the two approaches, displaying the Confusion Matrix for the two, as well as any comparing any other metrics you think are interesting (e.g. MSE). Comment on the results;\n",
        "5. Choose to predict a feature more suitable to be treated as a **regression** problem, then successfully solve it.\n",
        "6. What values should the loss have when the predictions are random (when your network is not trained at all)?\n",
        "7. Don't forget to split the dataset in training and validation.\n",
        "\n",
        "\n"
      ]
    },
    {
      "cell_type": "markdown",
      "metadata": {
        "id": "noDnc4PEZnOk"
      },
      "source": [
        "## Hints\n",
        "1. It might prove useful to link your Google Drive to this Notebook. See the code cell below;\n",
        "2. You might want to think of ways of preprocessing your data (e.g. One Hot Encoding, etc.);\n",
        "3. Don't be afraid of using text cells to actually write your thoughts about the data/results. Might prove useful at the end of the semester when you'll need to walk us through your solution 😉.\n",
        "\n"
      ]
    },
    {
      "cell_type": "markdown",
      "metadata": {
        "id": "9Pjwrt_IZoeQ"
      },
      "source": [
        "## Deadline\n",
        "March 18, 2021, 23:59\n",
        "\n",
        "**Punctaj maxim:** 2 puncte.\n",
        "\n",
        "Depunctarea este de 0.25 puncte pe zi intarziata. Dupa mai mult de 4 zile intarziere, punctajul maxim care se poate obtine ramane 1 punct.\n",
        "\n",
        "Trimite notebookul si datasetul intr-o arhiva `NumePrenume_Grupa_Tema1.zip` aici: https://forms.gle/MGrLvehEjmtWmQZP7 (la sustinerea temei, vei rula codul din arhiva)."
      ]
    },
    {
      "cell_type": "code",
      "metadata": {
        "id": "_epOks2gzT3O",
        "colab": {
          "resources": {
            "http://localhost:8080/nbextensions/google.colab/files.js": {
              "data": "Ly8gQ29weXJpZ2h0IDIwMTcgR29vZ2xlIExMQwovLwovLyBMaWNlbnNlZCB1bmRlciB0aGUgQXBhY2hlIExpY2Vuc2UsIFZlcnNpb24gMi4wICh0aGUgIkxpY2Vuc2UiKTsKLy8geW91IG1heSBub3QgdXNlIHRoaXMgZmlsZSBleGNlcHQgaW4gY29tcGxpYW5jZSB3aXRoIHRoZSBMaWNlbnNlLgovLyBZb3UgbWF5IG9idGFpbiBhIGNvcHkgb2YgdGhlIExpY2Vuc2UgYXQKLy8KLy8gICAgICBodHRwOi8vd3d3LmFwYWNoZS5vcmcvbGljZW5zZXMvTElDRU5TRS0yLjAKLy8KLy8gVW5sZXNzIHJlcXVpcmVkIGJ5IGFwcGxpY2FibGUgbGF3IG9yIGFncmVlZCB0byBpbiB3cml0aW5nLCBzb2Z0d2FyZQovLyBkaXN0cmlidXRlZCB1bmRlciB0aGUgTGljZW5zZSBpcyBkaXN0cmlidXRlZCBvbiBhbiAiQVMgSVMiIEJBU0lTLAovLyBXSVRIT1VUIFdBUlJBTlRJRVMgT1IgQ09ORElUSU9OUyBPRiBBTlkgS0lORCwgZWl0aGVyIGV4cHJlc3Mgb3IgaW1wbGllZC4KLy8gU2VlIHRoZSBMaWNlbnNlIGZvciB0aGUgc3BlY2lmaWMgbGFuZ3VhZ2UgZ292ZXJuaW5nIHBlcm1pc3Npb25zIGFuZAovLyBsaW1pdGF0aW9ucyB1bmRlciB0aGUgTGljZW5zZS4KCi8qKgogKiBAZmlsZW92ZXJ2aWV3IEhlbHBlcnMgZm9yIGdvb2dsZS5jb2xhYiBQeXRob24gbW9kdWxlLgogKi8KKGZ1bmN0aW9uKHNjb3BlKSB7CmZ1bmN0aW9uIHNwYW4odGV4dCwgc3R5bGVBdHRyaWJ1dGVzID0ge30pIHsKICBjb25zdCBlbGVtZW50ID0gZG9jdW1lbnQuY3JlYXRlRWxlbWVudCgnc3BhbicpOwogIGVsZW1lbnQudGV4dENvbnRlbnQgPSB0ZXh0OwogIGZvciAoY29uc3Qga2V5IG9mIE9iamVjdC5rZXlzKHN0eWxlQXR0cmlidXRlcykpIHsKICAgIGVsZW1lbnQuc3R5bGVba2V5XSA9IHN0eWxlQXR0cmlidXRlc1trZXldOwogIH0KICByZXR1cm4gZWxlbWVudDsKfQoKLy8gTWF4IG51bWJlciBvZiBieXRlcyB3aGljaCB3aWxsIGJlIHVwbG9hZGVkIGF0IGEgdGltZS4KY29uc3QgTUFYX1BBWUxPQURfU0laRSA9IDEwMCAqIDEwMjQ7CgpmdW5jdGlvbiBfdXBsb2FkRmlsZXMoaW5wdXRJZCwgb3V0cHV0SWQpIHsKICBjb25zdCBzdGVwcyA9IHVwbG9hZEZpbGVzU3RlcChpbnB1dElkLCBvdXRwdXRJZCk7CiAgY29uc3Qgb3V0cHV0RWxlbWVudCA9IGRvY3VtZW50LmdldEVsZW1lbnRCeUlkKG91dHB1dElkKTsKICAvLyBDYWNoZSBzdGVwcyBvbiB0aGUgb3V0cHV0RWxlbWVudCB0byBtYWtlIGl0IGF2YWlsYWJsZSBmb3IgdGhlIG5leHQgY2FsbAogIC8vIHRvIHVwbG9hZEZpbGVzQ29udGludWUgZnJvbSBQeXRob24uCiAgb3V0cHV0RWxlbWVudC5zdGVwcyA9IHN0ZXBzOwoKICByZXR1cm4gX3VwbG9hZEZpbGVzQ29udGludWUob3V0cHV0SWQpOwp9CgovLyBUaGlzIGlzIHJvdWdobHkgYW4gYXN5bmMgZ2VuZXJhdG9yIChub3Qgc3VwcG9ydGVkIGluIHRoZSBicm93c2VyIHlldCksCi8vIHdoZXJlIHRoZXJlIGFyZSBtdWx0aXBsZSBhc3luY2hyb25vdXMgc3RlcHMgYW5kIHRoZSBQeXRob24gc2lkZSBpcyBnb2luZwovLyB0byBwb2xsIGZvciBjb21wbGV0aW9uIG9mIGVhY2ggc3RlcC4KLy8gVGhpcyB1c2VzIGEgUHJvbWlzZSB0byBibG9jayB0aGUgcHl0aG9uIHNpZGUgb24gY29tcGxldGlvbiBvZiBlYWNoIHN0ZXAsCi8vIHRoZW4gcGFzc2VzIHRoZSByZXN1bHQgb2YgdGhlIHByZXZpb3VzIHN0ZXAgYXMgdGhlIGlucHV0IHRvIHRoZSBuZXh0IHN0ZXAuCmZ1bmN0aW9uIF91cGxvYWRGaWxlc0NvbnRpbnVlKG91dHB1dElkKSB7CiAgY29uc3Qgb3V0cHV0RWxlbWVudCA9IGRvY3VtZW50LmdldEVsZW1lbnRCeUlkKG91dHB1dElkKTsKICBjb25zdCBzdGVwcyA9IG91dHB1dEVsZW1lbnQuc3RlcHM7CgogIGNvbnN0IG5leHQgPSBzdGVwcy5uZXh0KG91dHB1dEVsZW1lbnQubGFzdFByb21pc2VWYWx1ZSk7CiAgcmV0dXJuIFByb21pc2UucmVzb2x2ZShuZXh0LnZhbHVlLnByb21pc2UpLnRoZW4oKHZhbHVlKSA9PiB7CiAgICAvLyBDYWNoZSB0aGUgbGFzdCBwcm9taXNlIHZhbHVlIHRvIG1ha2UgaXQgYXZhaWxhYmxlIHRvIHRoZSBuZXh0CiAgICAvLyBzdGVwIG9mIHRoZSBnZW5lcmF0b3IuCiAgICBvdXRwdXRFbGVtZW50Lmxhc3RQcm9taXNlVmFsdWUgPSB2YWx1ZTsKICAgIHJldHVybiBuZXh0LnZhbHVlLnJlc3BvbnNlOwogIH0pOwp9CgovKioKICogR2VuZXJhdG9yIGZ1bmN0aW9uIHdoaWNoIGlzIGNhbGxlZCBiZXR3ZWVuIGVhY2ggYXN5bmMgc3RlcCBvZiB0aGUgdXBsb2FkCiAqIHByb2Nlc3MuCiAqIEBwYXJhbSB7c3RyaW5nfSBpbnB1dElkIEVsZW1lbnQgSUQgb2YgdGhlIGlucHV0IGZpbGUgcGlja2VyIGVsZW1lbnQuCiAqIEBwYXJhbSB7c3RyaW5nfSBvdXRwdXRJZCBFbGVtZW50IElEIG9mIHRoZSBvdXRwdXQgZGlzcGxheS4KICogQHJldHVybiB7IUl0ZXJhYmxlPCFPYmplY3Q+fSBJdGVyYWJsZSBvZiBuZXh0IHN0ZXBzLgogKi8KZnVuY3Rpb24qIHVwbG9hZEZpbGVzU3RlcChpbnB1dElkLCBvdXRwdXRJZCkgewogIGNvbnN0IGlucHV0RWxlbWVudCA9IGRvY3VtZW50LmdldEVsZW1lbnRCeUlkKGlucHV0SWQpOwogIGlucHV0RWxlbWVudC5kaXNhYmxlZCA9IGZhbHNlOwoKICBjb25zdCBvdXRwdXRFbGVtZW50ID0gZG9jdW1lbnQuZ2V0RWxlbWVudEJ5SWQob3V0cHV0SWQpOwogIG91dHB1dEVsZW1lbnQuaW5uZXJIVE1MID0gJyc7CgogIGNvbnN0IHBpY2tlZFByb21pc2UgPSBuZXcgUHJvbWlzZSgocmVzb2x2ZSkgPT4gewogICAgaW5wdXRFbGVtZW50LmFkZEV2ZW50TGlzdGVuZXIoJ2NoYW5nZScsIChlKSA9PiB7CiAgICAgIHJlc29sdmUoZS50YXJnZXQuZmlsZXMpOwogICAgfSk7CiAgfSk7CgogIGNvbnN0IGNhbmNlbCA9IGRvY3VtZW50LmNyZWF0ZUVsZW1lbnQoJ2J1dHRvbicpOwogIGlucHV0RWxlbWVudC5wYXJlbnRFbGVtZW50LmFwcGVuZENoaWxkKGNhbmNlbCk7CiAgY2FuY2VsLnRleHRDb250ZW50ID0gJ0NhbmNlbCB1cGxvYWQnOwogIGNvbnN0IGNhbmNlbFByb21pc2UgPSBuZXcgUHJvbWlzZSgocmVzb2x2ZSkgPT4gewogICAgY2FuY2VsLm9uY2xpY2sgPSAoKSA9PiB7CiAgICAgIHJlc29sdmUobnVsbCk7CiAgICB9OwogIH0pOwoKICAvLyBXYWl0IGZvciB0aGUgdXNlciB0byBwaWNrIHRoZSBmaWxlcy4KICBjb25zdCBmaWxlcyA9IHlpZWxkIHsKICAgIHByb21pc2U6IFByb21pc2UucmFjZShbcGlja2VkUHJvbWlzZSwgY2FuY2VsUHJvbWlzZV0pLAogICAgcmVzcG9uc2U6IHsKICAgICAgYWN0aW9uOiAnc3RhcnRpbmcnLAogICAgfQogIH07CgogIGNhbmNlbC5yZW1vdmUoKTsKCiAgLy8gRGlzYWJsZSB0aGUgaW5wdXQgZWxlbWVudCBzaW5jZSBmdXJ0aGVyIHBpY2tzIGFyZSBub3QgYWxsb3dlZC4KICBpbnB1dEVsZW1lbnQuZGlzYWJsZWQgPSB0cnVlOwoKICBpZiAoIWZpbGVzKSB7CiAgICByZXR1cm4gewogICAgICByZXNwb25zZTogewogICAgICAgIGFjdGlvbjogJ2NvbXBsZXRlJywKICAgICAgfQogICAgfTsKICB9CgogIGZvciAoY29uc3QgZmlsZSBvZiBmaWxlcykgewogICAgY29uc3QgbGkgPSBkb2N1bWVudC5jcmVhdGVFbGVtZW50KCdsaScpOwogICAgbGkuYXBwZW5kKHNwYW4oZmlsZS5uYW1lLCB7Zm9udFdlaWdodDogJ2JvbGQnfSkpOwogICAgbGkuYXBwZW5kKHNwYW4oCiAgICAgICAgYCgke2ZpbGUudHlwZSB8fCAnbi9hJ30pIC0gJHtmaWxlLnNpemV9IGJ5dGVzLCBgICsKICAgICAgICBgbGFzdCBtb2RpZmllZDogJHsKICAgICAgICAgICAgZmlsZS5sYXN0TW9kaWZpZWREYXRlID8gZmlsZS5sYXN0TW9kaWZpZWREYXRlLnRvTG9jYWxlRGF0ZVN0cmluZygpIDoKICAgICAgICAgICAgICAgICAgICAgICAgICAgICAgICAgICAgJ24vYSd9IC0gYCkpOwogICAgY29uc3QgcGVyY2VudCA9IHNwYW4oJzAlIGRvbmUnKTsKICAgIGxpLmFwcGVuZENoaWxkKHBlcmNlbnQpOwoKICAgIG91dHB1dEVsZW1lbnQuYXBwZW5kQ2hpbGQobGkpOwoKICAgIGNvbnN0IGZpbGVEYXRhUHJvbWlzZSA9IG5ldyBQcm9taXNlKChyZXNvbHZlKSA9PiB7CiAgICAgIGNvbnN0IHJlYWRlciA9IG5ldyBGaWxlUmVhZGVyKCk7CiAgICAgIHJlYWRlci5vbmxvYWQgPSAoZSkgPT4gewogICAgICAgIHJlc29sdmUoZS50YXJnZXQucmVzdWx0KTsKICAgICAgfTsKICAgICAgcmVhZGVyLnJlYWRBc0FycmF5QnVmZmVyKGZpbGUpOwogICAgfSk7CiAgICAvLyBXYWl0IGZvciB0aGUgZGF0YSB0byBiZSByZWFkeS4KICAgIGxldCBmaWxlRGF0YSA9IHlpZWxkIHsKICAgICAgcHJvbWlzZTogZmlsZURhdGFQcm9taXNlLAogICAgICByZXNwb25zZTogewogICAgICAgIGFjdGlvbjogJ2NvbnRpbnVlJywKICAgICAgfQogICAgfTsKCiAgICAvLyBVc2UgYSBjaHVua2VkIHNlbmRpbmcgdG8gYXZvaWQgbWVzc2FnZSBzaXplIGxpbWl0cy4gU2VlIGIvNjIxMTU2NjAuCiAgICBsZXQgcG9zaXRpb24gPSAwOwogICAgd2hpbGUgKHBvc2l0aW9uIDwgZmlsZURhdGEuYnl0ZUxlbmd0aCkgewogICAgICBjb25zdCBsZW5ndGggPSBNYXRoLm1pbihmaWxlRGF0YS5ieXRlTGVuZ3RoIC0gcG9zaXRpb24sIE1BWF9QQVlMT0FEX1NJWkUpOwogICAgICBjb25zdCBjaHVuayA9IG5ldyBVaW50OEFycmF5KGZpbGVEYXRhLCBwb3NpdGlvbiwgbGVuZ3RoKTsKICAgICAgcG9zaXRpb24gKz0gbGVuZ3RoOwoKICAgICAgY29uc3QgYmFzZTY0ID0gYnRvYShTdHJpbmcuZnJvbUNoYXJDb2RlLmFwcGx5KG51bGwsIGNodW5rKSk7CiAgICAgIHlpZWxkIHsKICAgICAgICByZXNwb25zZTogewogICAgICAgICAgYWN0aW9uOiAnYXBwZW5kJywKICAgICAgICAgIGZpbGU6IGZpbGUubmFtZSwKICAgICAgICAgIGRhdGE6IGJhc2U2NCwKICAgICAgICB9LAogICAgICB9OwogICAgICBwZXJjZW50LnRleHRDb250ZW50ID0KICAgICAgICAgIGAke01hdGgucm91bmQoKHBvc2l0aW9uIC8gZmlsZURhdGEuYnl0ZUxlbmd0aCkgKiAxMDApfSUgZG9uZWA7CiAgICB9CiAgfQoKICAvLyBBbGwgZG9uZS4KICB5aWVsZCB7CiAgICByZXNwb25zZTogewogICAgICBhY3Rpb246ICdjb21wbGV0ZScsCiAgICB9CiAgfTsKfQoKc2NvcGUuZ29vZ2xlID0gc2NvcGUuZ29vZ2xlIHx8IHt9OwpzY29wZS5nb29nbGUuY29sYWIgPSBzY29wZS5nb29nbGUuY29sYWIgfHwge307CnNjb3BlLmdvb2dsZS5jb2xhYi5fZmlsZXMgPSB7CiAgX3VwbG9hZEZpbGVzLAogIF91cGxvYWRGaWxlc0NvbnRpbnVlLAp9Owp9KShzZWxmKTsK",
              "ok": true,
              "headers": [
                [
                  "content-type",
                  "application/javascript"
                ]
              ],
              "status": 200,
              "status_text": ""
            }
          },
          "base_uri": "https://localhost:8080/",
          "height": 73
        },
        "outputId": "5df60e9c-ded7-48b4-e090-2a93498696ce"
      },
      "source": [
        "from google.colab import files\n",
        "uploaded = files.upload()"
      ],
      "execution_count": 1,
      "outputs": [
        {
          "output_type": "display_data",
          "data": {
            "text/html": [
              "\n",
              "     <input type=\"file\" id=\"files-48f814a6-9919-4636-aa66-9e3300e4bbe5\" name=\"files[]\" multiple disabled\n",
              "        style=\"border:none\" />\n",
              "     <output id=\"result-48f814a6-9919-4636-aa66-9e3300e4bbe5\">\n",
              "      Upload widget is only available when the cell has been executed in the\n",
              "      current browser session. Please rerun this cell to enable.\n",
              "      </output>\n",
              "      <script src=\"/nbextensions/google.colab/files.js\"></script> "
            ],
            "text/plain": [
              "<IPython.core.display.HTML object>"
            ]
          },
          "metadata": {
            "tags": []
          }
        },
        {
          "output_type": "stream",
          "text": [
            "Saving Bucharest_HousePriceDataset.csv to Bucharest_HousePriceDataset.csv\n"
          ],
          "name": "stdout"
        }
      ]
    },
    {
      "cell_type": "code",
      "metadata": {
        "id": "n17s2Q_8TAhg",
        "colab": {
          "base_uri": "https://localhost:8080/"
        },
        "outputId": "90e465cf-3035-448a-b8dc-d409db577e88"
      },
      "source": [
        "!pip install torchviz\r\n",
        "from functools import partial\r\n",
        "from IPython.display import HTML\r\n",
        "import math\r\n",
        "import matplotlib.pyplot as plt\r\n",
        "from matplotlib import animation, rc\r\n",
        "import numpy as np\r\n",
        "from sklearn.datasets import make_regression\r\n",
        "from sklearn.linear_model import LinearRegression\r\n",
        "import torch\r\n",
        "import torch.nn as nn\r\n",
        "import torch.nn.functional as F\r\n",
        "import torchviz\r\n",
        "from typing import Iterator\r\n",
        "import pandas as pd"
      ],
      "execution_count": 4,
      "outputs": [
        {
          "output_type": "stream",
          "text": [
            "Requirement already satisfied: torchviz in /usr/local/lib/python3.7/dist-packages (0.0.1)\n",
            "Requirement already satisfied: torch in /usr/local/lib/python3.7/dist-packages (from torchviz) (1.8.0+cu101)\n",
            "Requirement already satisfied: graphviz in /usr/local/lib/python3.7/dist-packages (from torchviz) (0.10.1)\n",
            "Requirement already satisfied: numpy in /usr/local/lib/python3.7/dist-packages (from torch->torchviz) (1.19.5)\n",
            "Requirement already satisfied: typing-extensions in /usr/local/lib/python3.7/dist-packages (from torch->torchviz) (3.7.4.3)\n"
          ],
          "name": "stdout"
        }
      ]
    },
    {
      "cell_type": "code",
      "metadata": {
        "colab": {
          "base_uri": "https://localhost:8080/"
        },
        "id": "2z0ZbykdTLlX",
        "outputId": "8edb0bd1-6f03-4de6-efc1-862c883c324e"
      },
      "source": [
        "dataframe = pd.read_csv(\"Bucharest_HousePriceDataset.csv\")\r\n",
        "print(dataframe)"
      ],
      "execution_count": 5,
      "outputs": [
        {
          "output_type": "stream",
          "text": [
            "      Nr Camere  Suprafata  Etaj  Total Etaje  Sector  Scor    Pret\n",
            "0             4     108.00     2            3       4     5   83000\n",
            "1             1      41.00     1            8       1     1   39900\n",
            "2             3      63.52     1            3       2     3   84900\n",
            "3             1      33.00     3           10       5     1   45500\n",
            "4             2      62.00     5            9       5     5   54900\n",
            "...         ...        ...   ...          ...     ...   ...     ...\n",
            "3524          3     102.00     2            5       1     1  189000\n",
            "3525          4      96.00     1            3       3     2  200000\n",
            "3526          1      35.00     1            3       4     5   47000\n",
            "3527          2      60.00     6            7       1     2   89500\n",
            "3528          3      80.00     3            5       1     2  139000\n",
            "\n",
            "[3529 rows x 7 columns]\n"
          ],
          "name": "stdout"
        }
      ]
    },
    {
      "cell_type": "markdown",
      "metadata": {
        "id": "U1WoMZGOeCZR"
      },
      "source": [
        "#### Data\r\n",
        "\r\n",
        "Now, the data is read and will be transformed to feature vectors.\r\n",
        "\r\n",
        "We will predict the 'Nr camere' using only the features that seem to be correlated.\r\n",
        "\r\n",
        "'Etaj' and 'Total etaje' should not be correlated to 'Nr Camere' \r\n",
        "\r\n",
        "Suprafata, Pret - very important features\r\n",
        "Sector - less important featur \r\n",
        "\r\n",
        "\r\n",
        "We will scale the data and split in train/val.\r\n",
        "Also, the values for 'Nr Camere' will be transposed from 1 to 9 to 0 to 8). This must be done only once, for both classification and regression problems"
      ]
    },
    {
      "cell_type": "code",
      "metadata": {
        "colab": {
          "base_uri": "https://localhost:8080/"
        },
        "id": "RTSsBsOSUfRo",
        "outputId": "88126591-8997-4dce-9b92-22fb54f0b36c"
      },
      "source": [
        "\r\n",
        "\r\n",
        "from sklearn.model_selection import train_test_split\r\n",
        "from sklearn.preprocessing import StandardScaler\r\n",
        "from sklearn.metrics import confusion_matrix\r\n",
        "\r\n",
        "new_dataframe = dataframe[['Suprafata', 'Sector', 'Scor', 'Pret']]\r\n",
        "feature_vector = new_dataframe.to_numpy()\r\n",
        "\r\n",
        "std_scale = StandardScaler().fit(feature_vector)\r\n",
        "feature_vector = std_scale.transform(feature_vector)\r\n",
        "\r\n",
        "\r\n",
        "label_vector = dataframe[['Nr Camere']].to_numpy() - 1\r\n",
        "X_train, X_val, Y_train, Y_val = train_test_split(feature_vector, label_vector, test_size = 0.15, shuffle='true')\r\n",
        "\r\n",
        "print(\"Data scaling and splitting in train and validation done\")\r\n",
        "\r\n",
        "def plot_loss(loss, label, color='blue'):\r\n",
        "    plt.plot(loss, label=label, color=color)\r\n",
        "    plt.legend()\r\n"
      ],
      "execution_count": 116,
      "outputs": [
        {
          "output_type": "stream",
          "text": [
            "Data scaling and splitting in train and validation done\n"
          ],
          "name": "stdout"
        }
      ]
    },
    {
      "cell_type": "markdown",
      "metadata": {
        "id": "VPjO4cAicG_5"
      },
      "source": [
        "### Multilayer neural network for classfication\r\n",
        "\r\n",
        "*Input size* :  (number of features that should be correlated to 'Nr camere' : 'Suprafata', 'Sector', 'Pret', 'Scor')\r\n",
        "\r\n",
        "*Hidden layers of size* : 108, 108, 216, 108\r\n",
        "\r\n",
        "*Output size* : 9 (number of different values for 'Nr Camere'). The dataset contains apartments with 1 to 9 values for this column\r\n",
        "\r\n",
        "*The neural network* will return 9 probabilities, the highest one will indicate the most probable answer for the input example. The loss will be CrossEntropy and the chosen optimizer is Adadgrad with adaptive learning rate.\r\n"
      ]
    },
    {
      "cell_type": "code",
      "metadata": {
        "id": "Pp5RxcsclwIS"
      },
      "source": [
        "class MultiLayerNNClassifier(nn.Module):\r\n",
        "    def __init__(self, \r\n",
        "                 input_size: int, \r\n",
        "                 hidden_size1: int, \r\n",
        "                 hidden_size2: int, \r\n",
        "                 hidden_size3: int,\r\n",
        "                 hidden_size4: int,\r\n",
        "                 output_size: int):\r\n",
        "      \r\n",
        "        super().__init__()\r\n",
        "\r\n",
        "        self._layer1 = nn.Linear(input_size, hidden_size1)\r\n",
        "        self._layer2 = nn.Linear(hidden_size1, hidden_size2)\r\n",
        "        self._layer3 = nn.Linear(hidden_size2, hidden_size3)\r\n",
        "        self._layer4 = nn.Linear(hidden_size3, hidden_size4)\r\n",
        "        self._layer5 = nn.Linear(hidden_size4, output_size)\r\n",
        "        \r\n",
        "        self._relu = nn.ReLU()\r\n",
        "   \r\n",
        "    def forward(self, input_layer):\r\n",
        "\r\n",
        "        out_layer1 = self._relu(self._layer1(input_layer))\r\n",
        "        out_layer2 = self._layer2(out_layer1)\r\n",
        "        out_layer3 = self._layer3(out_layer2)\r\n",
        "        out_layer4 = self._layer4(out_layer3)\r\n",
        "        out_layer5 = self._layer5(out_layer4)\r\n",
        "\r\n",
        "        return out_layer5"
      ],
      "execution_count": 118,
      "outputs": []
    },
    {
      "cell_type": "markdown",
      "metadata": {
        "id": "ITg1R1P0naIk"
      },
      "source": [
        "#### Neural network classifier train\r\n"
      ]
    },
    {
      "cell_type": "code",
      "metadata": {
        "colab": {
          "base_uri": "https://localhost:8080/"
        },
        "id": "hhkmYWQddj4c",
        "outputId": "1a273db8-d0d9-43d5-d853-85b8dc2b891b"
      },
      "source": [
        "\r\n",
        "\r\n",
        "model = MultiLayerNNClassifier(4, 108, 108, 216, 108, 9)\r\n",
        "\r\n",
        "print(model)\r\n",
        "\r\n",
        "num_epochs = 750\r\n",
        "print_every = 100\r\n",
        "\r\n",
        "train_loss = []\r\n",
        "val_loss = []\r\n",
        "\r\n",
        "optim = torch.optim.Adagrad(model.parameters())\r\n",
        "criterion = nn.CrossEntropyLoss()\r\n",
        "\r\n",
        "for i in range(num_epochs):\r\n",
        "\r\n",
        "    model.train()\r\n",
        "    optim.zero_grad()\r\n",
        "    output = model(torch.tensor(X_train, dtype = torch.float32))\r\n",
        "\r\n",
        "    loss = criterion(output, torch.tensor(Y_train, dtype = torch.int64).flatten())\r\n",
        "    loss.backward()\r\n",
        "    optim.step()\r\n",
        "    \r\n",
        "    train_loss.append(loss.detach().numpy())\r\n",
        "\r\n",
        "    if i % print_every == 0 or i == num_epochs - 1:\r\n",
        "        print(f'EPOCH {i}:')\r\n",
        "        print(f'loss = {loss.item()}')\r\n",
        "\r\n",
        "    model.eval()\r\n",
        "    with torch.no_grad():\r\n",
        "        output = model(torch.tensor(X_val, dtype = torch.float32))\r\n",
        "        validation_loss = F.cross_entropy(output, torch.tensor(Y_val, dtype = torch.int64).flatten())\r\n",
        "        val_loss.append(validation_loss)"
      ],
      "execution_count": 152,
      "outputs": [
        {
          "output_type": "stream",
          "text": [
            "MultiLayerNNClassifier(\n",
            "  (_layer1): Linear(in_features=4, out_features=108, bias=True)\n",
            "  (_layer2): Linear(in_features=108, out_features=108, bias=True)\n",
            "  (_layer3): Linear(in_features=108, out_features=216, bias=True)\n",
            "  (_layer4): Linear(in_features=216, out_features=108, bias=True)\n",
            "  (_layer5): Linear(in_features=108, out_features=9, bias=True)\n",
            "  (_relu): ReLU()\n",
            ")\n",
            "EPOCH 0:\n",
            "loss = 2.1788957118988037\n",
            "EPOCH 100:\n",
            "loss = 0.558444082736969\n",
            "EPOCH 200:\n",
            "loss = 0.5389026403427124\n",
            "EPOCH 300:\n",
            "loss = 0.5283981561660767\n",
            "EPOCH 400:\n",
            "loss = 0.5216827392578125\n",
            "EPOCH 500:\n",
            "loss = 0.5162706971168518\n",
            "EPOCH 600:\n",
            "loss = 0.5127044916152954\n",
            "EPOCH 700:\n",
            "loss = 0.5089181065559387\n",
            "EPOCH 749:\n",
            "loss = 0.5099955797195435\n"
          ],
          "name": "stdout"
        }
      ]
    },
    {
      "cell_type": "markdown",
      "metadata": {
        "id": "-pSgPcM9d5mz"
      },
      "source": [
        "#### Validation and training accuracy on classifier"
      ]
    },
    {
      "cell_type": "code",
      "metadata": {
        "id": "bMgoZc0T8b9H",
        "colab": {
          "base_uri": "https://localhost:8080/",
          "height": 477
        },
        "outputId": "86e13faf-4890-4c87-fbe2-cb9ca841e6cf"
      },
      "source": [
        "\r\n",
        "def acuraccy_classifier(X, Y):\r\n",
        "    with torch.no_grad():\r\n",
        "      Y_pred = torch.argmax(model(torch.tensor(X, dtype = torch.float32)), dim=-1)\r\n",
        "    \r\n",
        "    confusion_mat = confusion_matrix(Y, Y_pred)\r\n",
        "    Y_accuracy = torch.sum(Y_pred == torch.tensor(Y, dtype = torch.int64).flatten()) / Y_pred.shape[0]\r\n",
        "    return Y_accuracy, confusion_mat\r\n",
        "\r\n",
        "\r\n",
        "\r\n",
        "Y_accuracy_train, confusion_mat_train = acuraccy_classifier(X_train, Y_train)\r\n",
        "print('Training accuracy: {}'.format(Y_accuracy_train))\r\n",
        "\r\n",
        "\r\n",
        "Y_accuracy_val, confusion_mat_val = acuraccy_classifier(X_val, Y_val)\r\n",
        "print('Validation accuracy: {}'.format(Y_accuracy_val))\r\n",
        "\r\n",
        "print('Confusion matrix for validation :')\r\n",
        "print()\r\n",
        "print(confusion_mat_val)\r\n",
        "print()\r\n",
        "\r\n",
        "plot_loss(train_loss, 'train-loss', color='blue')\r\n",
        "plot_loss(val_loss, 'val-loss', color='green')"
      ],
      "execution_count": 153,
      "outputs": [
        {
          "output_type": "stream",
          "text": [
            "Training accuracy: 0.7972657680511475\n",
            "Validation accuracy: 0.7924528121948242\n",
            "Confusion matrix for validation :\n",
            "\n",
            "[[ 39  12   0   0   0   0   0]\n",
            " [  5 209  29   1   0   0   0]\n",
            " [  0  17 161   2   1   0   0]\n",
            " [  0   0  34  10   0   0   0]\n",
            " [  0   0   3   5   0   0   0]\n",
            " [  0   0   0   1   0   0   0]\n",
            " [  0   0   0   0   0   0   1]]\n",
            "\n"
          ],
          "name": "stdout"
        },
        {
          "output_type": "display_data",
          "data": {
            "image/png": "[encoded data removed]",
            "text/plain": [
              "<Figure size 432x288 with 1 Axes>"
            ]
          },
          "metadata": {
            "tags": [],
            "needs_background": "light"
          }
        }
      ]
    },
    {
      "cell_type": "markdown",
      "metadata": {
        "id": "VIxtwWa-jAtv"
      },
      "source": [
        "### Multilayer neural network for regression\r\n",
        "\r\n",
        "*Input size* : 4 (same as for classfication, number of features that should be correlated to 'Nr camere' : 'Suprafata', 'Sector', 'Pret', 'Scor'\r\n",
        "\r\n",
        "*Hidden layers of size* : 480, 54, 58\r\n",
        "\r\n",
        "*Output size* : 1 (this time, the neural network will return a predict value of type **double**, which will indicate the prediction for 'Nr camere'). This afterwards must be round. \r\n",
        "\r\n",
        "The loss for the regressor is MSE and the  chosen optimizer is Adam.\r\n"
      ]
    },
    {
      "cell_type": "code",
      "metadata": {
        "id": "noCYodV79EUE"
      },
      "source": [
        "class MultiLayerNNRegressor(nn.Module):\r\n",
        "    def __init__(self, \r\n",
        "                 input_size: int, \r\n",
        "                 hidden_size1: int, \r\n",
        "                 hidden_size2: int, \r\n",
        "                 hidden_size3: int,\r\n",
        "                 output_size: int):\r\n",
        "      \r\n",
        "        super().__init__()\r\n",
        "\r\n",
        "        self._layer1 = nn.Linear(input_size, hidden_size1)\r\n",
        "        self._layer2 = nn.Linear(hidden_size1, hidden_size2)\r\n",
        "        self._layer3 = nn.Linear(hidden_size2, hidden_size3)\r\n",
        "        self._layer4 = nn.Linear(hidden_size3, output_size)\r\n",
        "\r\n",
        "        self._relu = nn.ReLU()\r\n",
        "   \r\n",
        "    def forward(self, input_layer):\r\n",
        "\r\n",
        "        out_layer1 = self._relu(self._layer1(input_layer))\r\n",
        "        out_layer2 = self._layer2(out_layer1)\r\n",
        "        out_layer3 = self._layer3(out_layer2)\r\n",
        "        out_layer4 = self._layer4(out_layer3)\r\n",
        "\r\n",
        "        return out_layer4\r\n",
        "\r\n"
      ],
      "execution_count": 154,
      "outputs": []
    },
    {
      "cell_type": "markdown",
      "metadata": {
        "id": "n-PcWYz3tlCa"
      },
      "source": [
        "#### Neural network regressor train"
      ]
    },
    {
      "cell_type": "code",
      "metadata": {
        "colab": {
          "base_uri": "https://localhost:8080/"
        },
        "id": "M1giL8rSgJjy",
        "outputId": "f270c5df-7b7a-4866-cdb1-bf8ba1375af5"
      },
      "source": [
        "\r\n",
        "model = MultiLayerNNRegressor(4, 480, 54, 48, 1)\r\n",
        "\r\n",
        "print(model)\r\n",
        "\r\n",
        "num_epochs = 400\r\n",
        "print_every = 100\r\n",
        "\r\n",
        "train_loss = []\r\n",
        "val_loss = []\r\n",
        "\r\n",
        "optim = torch.optim.Adam(model.parameters())\r\n",
        "criterion = nn.MSELoss()\r\n",
        "\r\n",
        "for i in range(num_epochs):\r\n",
        "\r\n",
        "    model.train()\r\n",
        "    optim.zero_grad()\r\n",
        "    output = model(torch.tensor(X_train, dtype = torch.float32)).flatten()\r\n",
        "\r\n",
        "    loss = criterion(output, torch.tensor(Y_train, dtype = torch.float32).flatten()).flatten()\r\n",
        "\r\n",
        "    loss.backward()\r\n",
        "    optim.step()\r\n",
        "    \r\n",
        "    train_loss.append(loss.detach().numpy())\r\n",
        "\r\n",
        "    if i % print_every == 0 or i == num_epochs - 1:\r\n",
        "        print(f'EPOCH {i}:')\r\n",
        "        print(f'loss = {loss.item()}')\r\n",
        "\r\n",
        "    model.eval()\r\n",
        "    with torch.no_grad():\r\n",
        "\r\n",
        "        output = model(torch.tensor(X_val, dtype = torch.float32)).flatten()\r\n",
        "        validation_loss = F.mse_loss(output, torch.tensor(Y_val, dtype = torch.float32).flatten())\r\n",
        "        val_loss.append(validation_loss)\r\n"
      ],
      "execution_count": 155,
      "outputs": [
        {
          "output_type": "stream",
          "text": [
            "MultiLayerNNRegressor(\n",
            "  (_layer1): Linear(in_features=4, out_features=480, bias=True)\n",
            "  (_layer2): Linear(in_features=480, out_features=54, bias=True)\n",
            "  (_layer3): Linear(in_features=54, out_features=48, bias=True)\n",
            "  (_layer4): Linear(in_features=48, out_features=1, bias=True)\n",
            "  (_relu): ReLU()\n",
            ")\n",
            "EPOCH 0:\n",
            "loss = 3.310145139694214\n",
            "EPOCH 100:\n",
            "loss = 0.20934608578681946\n",
            "EPOCH 200:\n",
            "loss = 0.19697652757167816\n",
            "EPOCH 300:\n",
            "loss = 0.18988333642482758\n",
            "EPOCH 399:\n",
            "loss = 0.183106929063797\n"
          ],
          "name": "stdout"
        }
      ]
    },
    {
      "cell_type": "markdown",
      "metadata": {
        "id": "5tOtkAqQukbN"
      },
      "source": [
        "#### Validation and training accuracy on regression"
      ]
    },
    {
      "cell_type": "code",
      "metadata": {
        "colab": {
          "base_uri": "https://localhost:8080/",
          "height": 473
        },
        "id": "LijKD6rW9jx1",
        "outputId": "3390c105-0c9e-4015-ecb3-97e443aab760"
      },
      "source": [
        "def acuraccy_regression(X, Y):\r\n",
        "    with torch.no_grad():\r\n",
        "        Y_pred = model(torch.tensor(X, dtype = torch.float32))\r\n",
        "    \r\n",
        "    Y_label = torch.round(Y_pred)\r\n",
        "    confusion_mat = confusion_matrix(Y, Y_label)\r\n",
        "    Y_accuracy = torch.sum(Y_label == torch.tensor(Y, dtype = torch.int64)) / Y_pred.shape[0]\r\n",
        "    \r\n",
        "    return Y_accuracy, confusion_mat\r\n",
        "\r\n",
        "\r\n",
        "Y_accuracy_train, confusion_mat_train = acuraccy_regression(X_train, Y_train)\r\n",
        "print('Training accuracy: {}'.format(Y_accuracy_train))\r\n",
        "\r\n",
        "\r\n",
        "Y_accuracy_val, confusion_mat_val = acuraccy_regression(X_val, Y_val)\r\n",
        "print('Validation accuracy: {}'.format(Y_accuracy_val))\r\n",
        "\r\n",
        "print('Confusion matrix for validation :')\r\n",
        "print()\r\n",
        "print(confusion_mat_val)\r\n",
        "print()\r\n",
        "plot_loss(train_loss, 'train-loss', color='blue')\r\n",
        "plot_loss(val_loss, 'val-loss', color='green')\r\n"
      ],
      "execution_count": 126,
      "outputs": [
        {
          "output_type": "stream",
          "text": [
            "Training accuracy: 0.7939313054084778\n",
            "Validation accuracy: 0.7867924571037292\n",
            "Confusion matrix for validation :\n",
            "\n",
            "[[ 41  10   0   0   0   0   0]\n",
            " [  9 205  28   2   0   0   0]\n",
            " [  0  17 150  13   0   1   0]\n",
            " [  0   0  23  19   2   0   0]\n",
            " [  0   0   1   5   2   0   0]\n",
            " [  0   0   0   1   0   0   0]\n",
            " [  0   0   0   0   0   1   0]]\n",
            "\n"
          ],
          "name": "stdout"
        },
        {
          "output_type": "display_data",
          "data": {
            "image/png": "[encoded data removed]",
            "text/plain": [
              "<Figure size 432x288 with 1 Axes>"
            ]
          },
          "metadata": {
            "tags": [],
            "needs_background": "light"
          }
        }
      ]
    },
    {
      "cell_type": "markdown",
      "metadata": {
        "id": "YwznsXNjVjPB"
      },
      "source": [
        "### Comparison between regression and classification  problem\r\n",
        "\r\n",
        "Fundamentally, classification is about predicting a label and regression is about predicting a quantity.\r\n",
        "\r\n",
        "\r\n",
        "Similarities:\r\n",
        "\r\n",
        "- Similar classification score after rounding the regession prediction\r\n",
        "\r\n",
        "- Similar training time\r\n",
        "\r\n",
        "- Same data extraction method for this problem\r\n",
        "\r\n",
        "- If the labels of regression are round up, we can compare classification acuraccy by calculating the percentage of 'right' predictions. This gives us a ~80% acuraccy for both neural networks on both train and validation splits.\r\n",
        "\r\n",
        "Differences:\r\n",
        "\r\n",
        "- Different loss function (Cross Entropy for classification and MSE Loss for Regression)\r\n",
        "\r\n",
        "- Classification is the task of predicting a discrete class label, where regression is the task of predicting a continuous quantity.\r\n",
        "\r\n",
        "- At regression, the predicted values must be round op to labels\r\n",
        "\r\n",
        "Key difference : \r\n",
        "\r\n",
        "The output layer of the neural network is not similar - for acuraccy there the size is one outputing the closest answer in double format, and for the classifier, the output size is equal to the number of classes and represents the probabilitites that the example is of one of these classes.\r\n",
        "\r\n",
        "This is very important as it explains why regression and classification can't always be used for the same problem :\r\n",
        " \r\n",
        "- If the predicted label could not be split in a small number of classes (for example the price), then the classification could not be used \r\n",
        "\r\n",
        "- If the predicted label would not be a continous output variable, then the regression could not be used (for example classifying animals)\r\n",
        "\r\n",
        "Confusion matrices are similar for the two tasks, and we can see that neither has strange values, and most apartments as classified right, or with difference of +-1\r\n",
        "\r\n",
        "\r\n",
        "\r\n"
      ]
    },
    {
      "cell_type": "markdown",
      "metadata": {
        "id": "MW0R0MBtsSb4"
      },
      "source": [
        "### Data, again\r\n",
        "\r\n",
        "Now, the data is read and will be transformed to feature vectors.\r\n",
        "\r\n",
        "We will predict 'Pret' using all features, as this time, all seem to be correlated with the price.\r\n",
        "\r\n",
        "Suprafata, Nr Camere, Scor - most important features\r\n",
        "\r\n",
        "Sector, Etaj, Total etaje  - less important features\r\n",
        "\r\n",
        "The neural network will learn to differentiate the importance of the features by itself"
      ]
    },
    {
      "cell_type": "code",
      "metadata": {
        "colab": {
          "base_uri": "https://localhost:8080/"
        },
        "id": "SnK3iIQFMEGv",
        "outputId": "69451640-af69-422c-b78c-6cc9133c4a21"
      },
      "source": [
        "\r\n",
        "dataframe = pd.read_csv(\"Bucharest_HousePriceDataset.csv\")\r\n",
        "print(dataframe)\r\n",
        "\r\n",
        "from sklearn.model_selection import train_test_split\r\n",
        "from sklearn.preprocessing import StandardScaler\r\n",
        "\r\n",
        "\r\n",
        "new_dataframe = dataframe[['Nr Camere', 'Suprafata', 'Etaj', 'Total Etaje', 'Sector', 'Scor']]\r\n",
        "feature_vector = new_dataframe.to_numpy()\r\n",
        "\r\n",
        "\r\n",
        "std_scale = StandardScaler().fit(feature_vector)\r\n",
        "feature_vector = std_scale.transform(feature_vector)\r\n",
        "\r\n",
        "\r\n",
        "label_vector = dataframe[['Pret']].to_numpy()\r\n",
        "\r\n",
        "X_train, X_val, Y_train, Y_val = train_test_split(feature_vector, label_vector, test_size = 0.15, shuffle='true')\r\n",
        "\r\n"
      ],
      "execution_count": 59,
      "outputs": [
        {
          "output_type": "stream",
          "text": [
            "      Nr Camere  Suprafata  Etaj  Total Etaje  Sector  Scor    Pret\n",
            "0             4     108.00     2            3       4     5   83000\n",
            "1             1      41.00     1            8       1     1   39900\n",
            "2             3      63.52     1            3       2     3   84900\n",
            "3             1      33.00     3           10       5     1   45500\n",
            "4             2      62.00     5            9       5     5   54900\n",
            "...         ...        ...   ...          ...     ...   ...     ...\n",
            "3524          3     102.00     2            5       1     1  189000\n",
            "3525          4      96.00     1            3       3     2  200000\n",
            "3526          1      35.00     1            3       4     5   47000\n",
            "3527          2      60.00     6            7       1     2   89500\n",
            "3528          3      80.00     3            5       1     2  139000\n",
            "\n",
            "[3529 rows x 7 columns]\n"
          ],
          "name": "stdout"
        }
      ]
    },
    {
      "cell_type": "markdown",
      "metadata": {
        "id": "QicAUZkhuABm"
      },
      "source": [
        "### Multilayer neural network for price regression\r\n",
        "\r\n",
        "\r\n",
        "The root mean squared error (RMSE) was chosen, for the price regression, as the MSE provided very large loss values, and the arhitecture is similar to the regression on the number of rooms (with except to features chosen\r\n"
      ]
    },
    {
      "cell_type": "code",
      "metadata": {
        "id": "4kUMnoQaM8g9"
      },
      "source": [
        " class MultiLayerNN(nn.Module):\r\n",
        "    def __init__(self, \r\n",
        "                 input_size: int, \r\n",
        "                 hidden_size1: int, \r\n",
        "                 hidden_size2: int, \r\n",
        "                 hidden_size3: int,\r\n",
        "                 output_size: int):\r\n",
        "      \r\n",
        "        super().__init__()\r\n",
        "\r\n",
        "        self._layer1 = nn.Linear(input_size, hidden_size1)\r\n",
        "        self._layer2 = nn.Linear(hidden_size1, hidden_size2)\r\n",
        "        self._layer3 = nn.Linear(hidden_size2, hidden_size3)\r\n",
        "        self._layer4 = nn.Linear(hidden_size3, output_size)\r\n",
        "\r\n",
        "        self._relu = nn.ReLU()\r\n",
        "   \r\n",
        "    def forward(self, input_layer):\r\n",
        "\r\n",
        "        out_layer1 = self._relu(self._layer1(input_layer))\r\n",
        "        out_layer2 = self._layer2(out_layer1)\r\n",
        "        out_layer3 = self._layer3(out_layer2)\r\n",
        "        out_layer4 = self._layer4(out_layer3)\r\n",
        "\r\n",
        "        return out_layer4\r\n",
        "\r\n"
      ],
      "execution_count": 73,
      "outputs": []
    },
    {
      "cell_type": "code",
      "metadata": {
        "colab": {
          "base_uri": "https://localhost:8080/"
        },
        "id": "jZVbg2kWva4r",
        "outputId": "f4262d94-04f4-4dfa-ba23-55d3795da494"
      },
      "source": [
        "\r\n",
        "model = MultiLayerNN(6, 240, 216, 96, 1)\r\n",
        "\r\n",
        "print(model)\r\n",
        "\r\n",
        "num_epochs = 700\r\n",
        "print_every = 100\r\n",
        "\r\n",
        "train_loss = []\r\n",
        "val_loss = []\r\n",
        "\r\n",
        "optim = torch.optim.Adam(model.parameters(), lr = 0.01)\r\n",
        "criterion = nn.MSELoss()\r\n",
        "\r\n",
        "for i in range(num_epochs):\r\n",
        "    model.train()\r\n",
        "    optim.zero_grad()\r\n",
        "    output = model(torch.tensor(X_train, dtype = torch.float32)).flatten()\r\n",
        "\r\n",
        "    loss = torch.sqrt(criterion(output, torch.tensor(Y_train, dtype = torch.float32).flatten()).flatten())\r\n",
        "\r\n",
        "    loss.backward()\r\n",
        "    optim.step()\r\n",
        "    \r\n",
        "    train_loss.append(loss.detach().numpy())\r\n",
        "\r\n",
        "    if i % print_every == 0 or i == num_epochs - 1:\r\n",
        "        print(f'EPOCH {i}:')\r\n",
        "        print(f'loss = {loss.item()}')\r\n",
        "\r\n",
        "    model.eval()\r\n",
        "    with torch.no_grad():\r\n",
        "\r\n",
        "        output = model(torch.tensor(X_val, dtype = torch.float32)).flatten()\r\n",
        "        validation_loss = torch.sqrt(F.mse_loss(output, torch.tensor(Y_val, dtype = torch.float32).flatten()))\r\n",
        "        val_loss.append(validation_loss)"
      ],
      "execution_count": 109,
      "outputs": [
        {
          "output_type": "stream",
          "text": [
            "MultiLayerNN(\n",
            "  (_layer1): Linear(in_features=6, out_features=240, bias=True)\n",
            "  (_layer2): Linear(in_features=240, out_features=216, bias=True)\n",
            "  (_layer3): Linear(in_features=216, out_features=96, bias=True)\n",
            "  (_layer4): Linear(in_features=96, out_features=1, bias=True)\n",
            "  (_relu): ReLU()\n",
            ")\n",
            "EPOCH 0:\n",
            "loss = 115636.6015625\n",
            "EPOCH 100:\n",
            "loss = 30320.244140625\n",
            "EPOCH 200:\n",
            "loss = 29424.58203125\n",
            "EPOCH 300:\n",
            "loss = 28922.369140625\n",
            "EPOCH 400:\n",
            "loss = 28268.85546875\n",
            "EPOCH 500:\n",
            "loss = 27500.421875\n",
            "EPOCH 600:\n",
            "loss = 26480.33984375\n",
            "EPOCH 699:\n",
            "loss = 25787.39453125\n"
          ],
          "name": "stdout"
        }
      ]
    },
    {
      "cell_type": "markdown",
      "metadata": {
        "id": "SCqh9_XuvlJt"
      },
      "source": [
        "#### Validation and training average MAE on regression, loss plot\r\n",
        "\r\n",
        "For final acuraccy, the MAE loss was chosen for final results - so this would mean the mean absolute difference of the predicted and the true prices.\r\n",
        "\r\n",
        "However, RMSE was more suitable for train because its bigger penalty of large deviations from answers"
      ]
    },
    {
      "cell_type": "code",
      "metadata": {
        "colab": {
          "base_uri": "https://localhost:8080/",
          "height": 335
        },
        "id": "TD6DLJy-OuI8",
        "outputId": "05f3e660-f09b-4b1c-ebb8-ac00a2e6e9b6"
      },
      "source": [
        "loss = nn.L1Loss()\r\n",
        "\r\n",
        "def acuraccy_regression(X, Y):\r\n",
        "    with torch.no_grad():\r\n",
        "        Y_pred = model(torch.tensor(X, dtype = torch.float32))\r\n",
        "\r\n",
        "    return loss(Y_pred, torch.tensor(Y, dtype = torch.float32))\r\n",
        "\r\n",
        "\r\n",
        "# print(torch.sum(torch.tensor(Y_train)) / len(Y_train))\r\n",
        "\r\n",
        "Y_loss_train = acuraccy_regression(X_train, Y_train)\r\n",
        "print('Training MAE: {}'.format(Y_loss_train))\r\n",
        "\r\n",
        "\r\n",
        "Y_loss_val = acuraccy_regression(X_val, Y_val)\r\n",
        "print('Validation MAE: {}'.format(Y_loss_val))\r\n",
        "print()\r\n",
        "\r\n",
        "plot_loss(train_loss, 'train-loss', color='blue')\r\n",
        "plot_loss(val_loss, 'val-loss', color='green')\r\n"
      ],
      "execution_count": 110,
      "outputs": [
        {
          "output_type": "stream",
          "text": [
            "tensor(97352.2578)\n",
            "Training MAE: 16734.689453125\n",
            "Validation MAE: 18552.873046875\n",
            "\n"
          ],
          "name": "stdout"
        },
        {
          "output_type": "display_data",
          "data": {
            "image/png": "[encoded data removed]",
            "text/plain": [
              "<Figure size 432x288 with 1 Axes>"
            ]
          },
          "metadata": {
            "tags": [],
            "needs_background": "light"
          }
        }
      ]
    },
    {
      "cell_type": "markdown",
      "metadata": {
        "id": "H7skZQKLw1e7"
      },
      "source": [
        "### What values should the loss have when the predictions are random (when your network is not trained at all)?\r\n",
        "\r\n",
        "When the network is not trained at all, the predicted quantities are random numbers close to zero. \r\n",
        "\r\n",
        "\r\n",
        "So in this case, the MAE is the average value of the prices from the dataset. (97352.2578)\r\n",
        "\r\n",
        "\r\n",
        "In the other two cases:\r\n",
        "\r\n",
        "- Classification : the highest probability given is for 3 rooms (which are the most in the dataset). Then, most apartments are predicted to have 3 room apartment. The cross entropy loss is ~2.1 and converges to ~0.5\r\n",
        "\r\n",
        "- Regression :  The MSE loss is ~3.3 and converges to ~0.2\r\n",
        "\r\n",
        "\r\n",
        "\r\n",
        "\r\n",
        "\r\n"
      ]
    }
  ]
}